{
 "cells": [
  {
   "cell_type": "markdown",
   "id": "fa9eb0bc",
   "metadata": {},
   "source": [
    "Null Hypothesis (H0): It states that there is no increase in weekly operating cost. Whereas Alternate Hypothesis (H1): It states that there is significant increase in weekly operating cost. \n"
   ]
  },
  {
   "cell_type": "markdown",
   "id": "e4d31c07",
   "metadata": {},
   "source": [
    "To verify our hypothesis, we will use t-test.\n",
    "If our calculated t-value (i.e. t-value obtained statistically) < critical t-value, then we will accept our null hypothesis (H0) because when t-value is less than critical t-value, then the result of the test is not statistically significant.\n",
    "Now,Let’s calculate the t-value and critical t-value."
   ]
  },
  {
   "cell_type": "code",
   "execution_count": 1,
   "id": "50a3eebb",
   "metadata": {},
   "outputs": [],
   "source": [
    "import numpy as np      #import numpy lib using it's short form np\n",
    "from scipy import stats  # import sublib stats from scipy lib"
   ]
  },
  {
   "cell_type": "code",
   "execution_count": 2,
   "id": "07ee9969",
   "metadata": {},
   "outputs": [],
   "source": [
    "sample_size=25         #sample size\n",
    "population_mean=4000   #population mean\n",
    "sample_mean=3050    #sample mean  \n",
    "std=25                 #standard deviation"
   ]
  },
  {
   "cell_type": "code",
   "execution_count": 3,
   "id": "8f76eda0",
   "metadata": {},
   "outputs": [],
   "source": [
    "t_statistic = (sample_mean - population_mean) / (std / np.sqrt(sample_size))  #calculate t-value "
   ]
  },
  {
   "cell_type": "code",
   "execution_count": 4,
   "id": "04935e04",
   "metadata": {},
   "outputs": [
    {
     "data": {
      "text/plain": [
       "-190.0"
      ]
     },
     "execution_count": 4,
     "metadata": {},
     "output_type": "execute_result"
    }
   ],
   "source": [
    "t_statistic"
   ]
  },
  {
   "cell_type": "markdown",
   "id": "3d2d3648",
   "metadata": {},
   "source": [
    "A negative t-value indicates sample mean < population mean which does not influence the significant difference between the means of two groups. So, we can avoid the negative sign \n"
   ]
  },
  {
   "cell_type": "code",
   "execution_count": 5,
   "id": "387640d9",
   "metadata": {},
   "outputs": [],
   "source": [
    "t_statistic = abs(t_statistic)  #abs function convert negative number into positive number"
   ]
  },
  {
   "cell_type": "code",
   "execution_count": 6,
   "id": "fca53460",
   "metadata": {},
   "outputs": [
    {
     "data": {
      "text/plain": [
       "190.0"
      ]
     },
     "execution_count": 6,
     "metadata": {},
     "output_type": "execute_result"
    }
   ],
   "source": [
    "t_statistic"
   ]
  },
  {
   "cell_type": "code",
   "execution_count": 7,
   "id": "2f4c6595",
   "metadata": {},
   "outputs": [],
   "source": [
    "df = sample_size - 1  #degree of freedom which shows no. of independent variables used for calculating critical t-value"
   ]
  },
  {
   "cell_type": "code",
   "execution_count": 8,
   "id": "5f41cffb",
   "metadata": {},
   "outputs": [
    {
     "data": {
      "text/plain": [
       "24"
      ]
     },
     "execution_count": 8,
     "metadata": {},
     "output_type": "execute_result"
    }
   ],
   "source": [
    "df"
   ]
  },
  {
   "cell_type": "code",
   "execution_count": 9,
   "id": "f2b6640e",
   "metadata": {},
   "outputs": [],
   "source": [
    "alpha = 0.05 #significance level (threshold value used to decide whether to reject null hypothesis)"
   ]
  },
  {
   "cell_type": "code",
   "execution_count": 10,
   "id": "e4e4c2a0",
   "metadata": {},
   "outputs": [],
   "source": [
    "critical_t = stats.t.ppf(1-alpha/2, df) # determine the critical t-value using t.ppf function available inside stats sublib"
   ]
  },
  {
   "cell_type": "code",
   "execution_count": 11,
   "id": "3262becf",
   "metadata": {},
   "outputs": [
    {
     "data": {
      "text/plain": [
       "2.0638985616280205"
      ]
     },
     "execution_count": 11,
     "metadata": {},
     "output_type": "execute_result"
    }
   ],
   "source": [
    "critical_t"
   ]
  },
  {
   "cell_type": "markdown",
   "id": "19601178",
   "metadata": {},
   "source": [
    "We can also determine critical value from the standard normal (Z) distribution table. α = 0.05 => confidence level (c) = 1- α = 0.95.\n",
    "Calculate the Area under the normal distribution curve for the given confidence level:\n",
    "A = (1+0.95) /2 = 0.975  =>\n",
    "Search area value 0.975 in Normal (Z) distribution table => we get \n",
    "z-score of 0.975 = 1.96  which means z-score at 95% confidence level = 1.96.\n",
    "Hence, critical value from Normal (Z) distribution table = 1.96\n"
   ]
  },
  {
   "cell_type": "markdown",
   "id": "0ad394ca",
   "metadata": {},
   "source": [
    "Since, our calculated t-value >  critical t-value, then we will reject our null hypothesis (H0) which means there is significant increase in weekly operating cost. In other words, Rejection of null hypothesis means acceptance of alternate hypothesis, therefore, we support the restaurant owners' claim that the weekly operating costs are higher than the model suggests. "
   ]
  },
  {
   "cell_type": "markdown",
   "id": "16a1d41a",
   "metadata": {},
   "source": [
    "we can write the code for above explanation"
   ]
  },
  {
   "cell_type": "code",
   "execution_count": 12,
   "id": "38a0a7d7",
   "metadata": {},
   "outputs": [
    {
     "name": "stdout",
     "output_type": "stream",
     "text": [
      "Null Hypothesis is rejected which means there is a significant increase in weekly operating cost\n"
     ]
    }
   ],
   "source": [
    "if t_statistic > critical_t:\n",
    "    print(\"Null Hypothesis is rejected which means there is a significant increase in weekly operating cost\")\n",
    "else:\n",
    "    print(\"Null Hypothesis is accepted which means there is no increase in weekly operating cost\")"
   ]
  },
  {
   "cell_type": "markdown",
   "id": "68873f72",
   "metadata": {},
   "source": [
    "We can also use p-value to decide whether to reject the null hypothesis"
   ]
  },
  {
   "cell_type": "code",
   "execution_count": 13,
   "id": "1fa8f8db",
   "metadata": {},
   "outputs": [],
   "source": [
    "p_value = 1 - stats.t.cdf(t_statistic, df) # calculate p-value using t.cdf function"
   ]
  },
  {
   "cell_type": "code",
   "execution_count": 14,
   "id": "d8f0e32f",
   "metadata": {},
   "outputs": [
    {
     "data": {
      "text/plain": [
       "0.0"
      ]
     },
     "execution_count": 14,
     "metadata": {},
     "output_type": "execute_result"
    }
   ],
   "source": [
    "p_value"
   ]
  },
  {
   "cell_type": "code",
   "execution_count": 15,
   "id": "253225e8",
   "metadata": {},
   "outputs": [
    {
     "name": "stdout",
     "output_type": "stream",
     "text": [
      "Null Hypothesis is rejected which means there is a significant increase in weekly operating cost\n"
     ]
    }
   ],
   "source": [
    "if p_value >alpha:\n",
    "    print(\"Null Hypothesis is accepted which means there is no increase in weekly operating cost\")\n",
    "else:\n",
    "    print(\"Null Hypothesis is rejected which means there is a significant increase in weekly operating cost\")"
   ]
  },
  {
   "cell_type": "code",
   "execution_count": null,
   "id": "d2fb7c43",
   "metadata": {},
   "outputs": [],
   "source": []
  }
 ],
 "metadata": {
  "kernelspec": {
   "display_name": "Python 3 (ipykernel)",
   "language": "python",
   "name": "python3"
  },
  "language_info": {
   "codemirror_mode": {
    "name": "ipython",
    "version": 3
   },
   "file_extension": ".py",
   "mimetype": "text/x-python",
   "name": "python",
   "nbconvert_exporter": "python",
   "pygments_lexer": "ipython3",
   "version": "3.9.13"
  }
 },
 "nbformat": 4,
 "nbformat_minor": 5
}
